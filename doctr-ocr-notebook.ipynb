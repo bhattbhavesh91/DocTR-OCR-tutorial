{
  "nbformat": 4,
  "nbformat_minor": 0,
  "metadata": {
    "colab": {
      "name": "doctr-ocr-notebook.ipynb",
      "provenance": []
    },
    "kernelspec": {
      "name": "python3",
      "display_name": "Python 3"
    },
    "language_info": {
      "name": "python"
    }
  },
  "cells": [
    {
      "cell_type": "code",
      "metadata": {
        "id": "t5FkMGCmuHKL"
      },
      "source": [
        "!git clone https://github.com/mindee/doctr.git"
      ],
      "execution_count": null,
      "outputs": []
    },
    {
      "cell_type": "code",
      "metadata": {
        "id": "jFg3sP_EwDLE"
      },
      "source": [
        "!pip install -q tensorflow-addons"
      ],
      "execution_count": null,
      "outputs": []
    },
    {
      "cell_type": "code",
      "metadata": {
        "id": "ZMLwrnJfwLSr"
      },
      "source": [
        "!pip install -qe doctr/."
      ],
      "execution_count": null,
      "outputs": []
    },
    {
      "cell_type": "code",
      "metadata": {
        "id": "xhYD9SeZwQWu"
      },
      "source": [
        "from doctr.io import DocumentFile\n",
        "from doctr.models import ocr_predictor"
      ],
      "execution_count": null,
      "outputs": []
    },
    {
      "cell_type": "code",
      "metadata": {
        "id": "a6UvVT-lwyA3"
      },
      "source": [
        "model = ocr_predictor(pretrained=True)"
      ],
      "execution_count": null,
      "outputs": []
    },
    {
      "cell_type": "code",
      "metadata": {
        "id": "ny1Tw4w2xM7O"
      },
      "source": [
        "document = DocumentFile.from_images(\"img2.jpeg\")"
      ],
      "execution_count": null,
      "outputs": []
    },
    {
      "cell_type": "code",
      "metadata": {
        "id": "ExWv4gD7xrDt"
      },
      "source": [
        "result = model(document)"
      ],
      "execution_count": null,
      "outputs": []
    },
    {
      "cell_type": "code",
      "metadata": {
        "id": "9AA9gIzHx0Ap"
      },
      "source": [
        "result.show(document)"
      ],
      "execution_count": null,
      "outputs": []
    },
    {
      "cell_type": "code",
      "metadata": {
        "id": "h97HSAg8x6hY"
      },
      "source": [
        "json_response = result.export()"
      ],
      "execution_count": null,
      "outputs": []
    },
    {
      "cell_type": "code",
      "metadata": {
        "id": "31UB3XULyIxt"
      },
      "source": [
        "json_response"
      ],
      "execution_count": null,
      "outputs": []
    },
    {
      "cell_type": "code",
      "metadata": {
        "id": "cGkIi-qcyKnW"
      },
      "source": [
        "for words in json_response[\"pages\"][0][\"blocks\"][0][\"lines\"][0][\"words\"]:\n",
        "    print(words[\"value\"])"
      ],
      "execution_count": null,
      "outputs": []
    },
    {
      "cell_type": "code",
      "metadata": {
        "id": "jjR4xwsUyTQq"
      },
      "source": [
        ""
      ],
      "execution_count": null,
      "outputs": []
    }
  ]
}